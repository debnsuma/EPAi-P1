{
 "cells": [
  {
   "cell_type": "code",
   "execution_count": 1,
   "metadata": {},
   "outputs": [],
   "source": [
    "import time\n",
    "from math import tan, pi"
   ]
  },
  {
   "cell_type": "code",
   "execution_count": 2,
   "metadata": {},
   "outputs": [],
   "source": [
    "def _print(repetitons, *args, **kwargs):\n",
    "    if \"sep\" not in kwargs:\n",
    "        kwargs[\"sep\"] = \" \"\n",
    "    if \"end\" not in kwargs:\n",
    "        kwargs[\"end\"] = \"\\n\"\n",
    "        \n",
    "    for i in range(repetitons):\n",
    "        print(*args, sep=kwargs[\"sep\"], end=kwargs[\"end\"])"
   ]
  },
  {
   "cell_type": "code",
   "execution_count": 3,
   "metadata": {},
   "outputs": [],
   "source": [
    "def _squared_power_list(repetitons, num, **kwargs):\n",
    "    \n",
    "    if \"start\" not in kwargs:\n",
    "        kwargs[\"start\"] = 0\n",
    "    if \"end\" not in kwargs:\n",
    "        kwargs[\"end\"] = 0\n",
    "    \n",
    "    for i in range(repetitons):\n",
    "        result = [num**i for i in range(kwargs[\"start\"], kwargs[\"end\"]+1)]\n",
    "        print(result)"
   ]
  },
  {
   "cell_type": "code",
   "execution_count": 4,
   "metadata": {},
   "outputs": [],
   "source": [
    "def _polygon_area(repetitons, side_length, **kwargs):\n",
    "    \n",
    "    if \"sides\" not in kwargs:\n",
    "        kwargs[\"sides\"] = 3\n",
    "        \n",
    "    if kwargs[\"sides\"] > 6:\n",
    "        print(\"This polygon supports area calculations of upto a hexagon(3 <= 'side' <= 6)\")\n",
    "    elif kwargs[\"sides\"] < 3:\n",
    "        print(\"Mathematics Guru says, min. no of sides a polygon can have is 3 :)\")\n",
    "    else:\n",
    "        for i in range(repetitons):\n",
    "            area = kwargs[\"sides\"] * (side_length ** 2) / (4 * tan(pi / kwargs[\"sides\"]))\n",
    "            print(round(area, 3))\n"
   ]
  },
  {
   "cell_type": "code",
   "execution_count": 5,
   "metadata": {},
   "outputs": [],
   "source": [
    "def _temp_converter(repetitons, input_temp, **kwargs):\n",
    "    \n",
    "    if \"temp_given_in\" not in kwargs:\n",
    "        kwargs[\"temp_given_in\"] = \"f\"\n",
    "    \n",
    "    if kwargs[\"temp_given_in\"] == \"c\":\n",
    "        for i in range(repetitons):\n",
    "            out_temp = (input_temp * 9/5) + 32\n",
    "            print(round(out_temp, 3))\n",
    "            \n",
    "    elif kwargs[\"temp_given_in\"] == \"f\":\n",
    "        for i in range(repetitons):\n",
    "            out_temp = (input_temp - 32) * 5/9\n",
    "            print(round(out_temp, 3))\n",
    "            \n",
    "    else:\n",
    "        print(\"The parameter, 'temp_given_in' can be either 'f' or 'c'\")\n",
    "        \n",
    "    "
   ]
  },
  {
   "cell_type": "code",
   "execution_count": 6,
   "metadata": {},
   "outputs": [],
   "source": [
    "def _speed_converter(repetitons, distance, **kwargs):\n",
    "    \n",
    "    if \"dist\" not in kwargs:\n",
    "        kwargs[\"dist\"] = \"km\"\n",
    "    if \"time\" not in kwargs:\n",
    "        kwargs[\"time\"] = \"min\"\n",
    "    \n",
    "    for i in range(repetitons):\n",
    "        if kwargs[\"dist\"] == \"m\":\n",
    "            distance_in_km = distance * 0.001\n",
    "        elif kwargs[\"dist\"] == \"ft\":\n",
    "            distance_in_km = distance * 0.0003048\n",
    "        elif kwargs[\"dist\"] == \"yrd\":\n",
    "            distance_in_km = distance * 0.0009144\n",
    "        else:\n",
    "            distance_in_km = distance\n",
    "        \n",
    "        if kwargs[\"time\"] == \"ms\":\n",
    "            time_in_hr = 2.7778e-7\n",
    "        elif kwargs[\"time\"] == \"s\":\n",
    "            time_in_hr = 0.00027778\n",
    "        elif kwargs[\"time\"] == \"day\":\n",
    "            time_in_hr = 24\n",
    "        else:\n",
    "            time_in_hr = 1\n",
    "            \n",
    "        speed = round(distance_in_km / time_in_hr, 3)\n",
    "        print(f\"Speed : {speed}\")\n",
    "        \n",
    "    "
   ]
  },
  {
   "cell_type": "code",
   "execution_count": 7,
   "metadata": {},
   "outputs": [],
   "source": [
    "def time_it(fn, *args, repetitons= 1, **kwargs):\n",
    "    \n",
    "    start = time.perf_counter()\n",
    "    \n",
    "    if fn == \"print\":\n",
    "        _print(repetitons, *args, **kwargs)\n",
    "    \n",
    "    if fn == \"squared_power_list\":\n",
    "        if len(args) < 1 or len(args) > 1:\n",
    "            print(\"Need at least 2 position argument, to define the base number\")\n",
    "        else:\n",
    "            _squared_power_list(repetitons, args[0], **kwargs)\n",
    "    \n",
    "    if fn == \"polygon_area\":\n",
    "        if len(args) < 1 or len(args) > 1:\n",
    "            print(\"Need at least 2 position argument, to define the side length of the polygon\")\n",
    "        else:\n",
    "            _polygon_area(repetitons, args[0], **kwargs) \n",
    "    \n",
    "    if fn == \"temp_converter\":\n",
    "        if len(args) < 1 or len(args) > 1:\n",
    "            print(\"Need at least 2 position argument, to define the base temperature\")\n",
    "        else:\n",
    "            _temp_converter(repetitons, args[0], **kwargs)         \n",
    "    \n",
    "    if fn == \"speed_converter\":\n",
    "        if len(args) < 1 or len(args) > 1:\n",
    "            print(\"Need at least 2 position argument, to define distance travelled(in km/m/ft/yrd)\")\n",
    "        else:\n",
    "            _speed_converter(repetitons, args[0], **kwargs)          \n",
    "    \n",
    "    end = time.perf_counter()\n",
    "    return round(end - start, 4)\n",
    "    "
   ]
  },
  {
   "cell_type": "code",
   "execution_count": null,
   "metadata": {},
   "outputs": [],
   "source": []
  }
 ],
 "metadata": {
  "kernelspec": {
   "display_name": "Python 3",
   "language": "python",
   "name": "python3"
  },
  "language_info": {
   "codemirror_mode": {
    "name": "ipython",
    "version": 3
   },
   "file_extension": ".py",
   "mimetype": "text/x-python",
   "name": "python",
   "nbconvert_exporter": "python",
   "pygments_lexer": "ipython3",
   "version": "3.8.3"
  }
 },
 "nbformat": 4,
 "nbformat_minor": 1
}

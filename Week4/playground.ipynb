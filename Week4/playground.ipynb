{
 "cells": [
  {
   "cell_type": "code",
   "execution_count": 1,
   "metadata": {},
   "outputs": [],
   "source": [
    "import time\n",
    "from math import pi, tan"
   ]
  },
  {
   "cell_type": "code",
   "execution_count": 2,
   "metadata": {},
   "outputs": [],
   "source": [
    "def speed_converter(traveled, *, dist=\"km\", time=\"hr\"):\n",
    "    \n",
    "    if dist not in [\"km\", \"m\", \"ft\", \"yrd\"]:\n",
    "        print(\"The parameter 'dist' can be only km/m/ft/yrd\")\n",
    "        return \n",
    "    if time not in [\"ms\", \"s\", \"min\", \"day\", \"hr\"]:\n",
    "        print(\"The parameter 'time' can be only ms/s/m/hr/day\")\n",
    "        return \n",
    "    \n",
    "    if dist == \"m\":\n",
    "        distance_in_km = traveled * 0.001\n",
    "    elif dist == \"ft\":\n",
    "        distance_in_km = traveled * 0.0003048\n",
    "    elif dist == \"yrd\":\n",
    "        distance_in_km = traveled * 0.0009144\n",
    "    else:\n",
    "        distance_in_km = traveled\n",
    "\n",
    "    if time == \"ms\":\n",
    "        time_in_hr = 2.7778e-7\n",
    "    elif time == \"s\":\n",
    "        time_in_hr = 0.00027778\n",
    "    elif time == \"min\":\n",
    "        time_in_hr = 60 \n",
    "    elif time == \"day\":\n",
    "        time_in_hr = 24\n",
    "    else:\n",
    "        time_in_hr = 1\n",
    "\n",
    "    speed = round(distance_in_km / time_in_hr, 3)\n",
    "\n",
    "    return speed"
   ]
  },
  {
   "cell_type": "code",
   "execution_count": 3,
   "metadata": {},
   "outputs": [],
   "source": [
    "def temp_converter(input_temp, *, temp_given_in = \"f\"):\n",
    "\n",
    "    if temp_given_in == \"c\":\n",
    "        out_temp = (input_temp * 9 / 5) + 32\n",
    "\n",
    "    elif temp_given_in == \"f\":\n",
    "        out_temp = (input_temp - 32) * 5 / 9\n",
    "\n",
    "    else:\n",
    "        print(\"The parameter, 'temp_given_in' can be either 'f' or 'c'\")\n",
    "        return\n",
    "    \n",
    "    return out_temp\n"
   ]
  },
  {
   "cell_type": "code",
   "execution_count": 4,
   "metadata": {},
   "outputs": [],
   "source": [
    "def polygon_area(side_length, *, sides=3):\n",
    "    area = sides * (side_length ** 2) / (4 * tan(pi / sides))\n",
    "    return area"
   ]
  },
  {
   "cell_type": "code",
   "execution_count": 5,
   "metadata": {},
   "outputs": [],
   "source": [
    "def squared_power_list(num, *, start=0, end):\n",
    "    result = [num ** i for i in range(start, end + 1)]\n",
    "    return result"
   ]
  },
  {
   "cell_type": "code",
   "execution_count": 16,
   "metadata": {},
   "outputs": [],
   "source": [
    "def time_it(fn, *args, repetitions=1, **kwargs):\n",
    "\n",
    "    # Starting the timer\n",
    "    start = time.perf_counter()\n",
    "    if not callable(fn):\n",
    "        print('The given function is undefined')\n",
    "        return 0\n",
    "    if repetitions > 0:\n",
    "        # Starting the loop\n",
    "        for i in range(repetitions):\n",
    "            fn(*args, **kwargs)\n",
    "    else:\n",
    "        print(\"Repetitions should be greter than 0\")\n",
    "        repetitions = 1\n",
    "\n",
    "    # Ending the timer\n",
    "    end = time.perf_counter()\n",
    "\n",
    "    # Calculating the average run time per call for the function\n",
    "    avg_run_time = (end - start) / repetitions\n",
    "\n",
    "    return avg_run_time"
   ]
  },
  {
   "cell_type": "code",
   "execution_count": 17,
   "metadata": {},
   "outputs": [
    {
     "name": "stdout",
     "output_type": "stream",
     "text": [
      "The given function is undefined\n"
     ]
    }
   ],
   "source": [
    "time_it('undefined', 100, dist='kmph', time='hr')"
   ]
  },
  {
   "cell_type": "code",
   "execution_count": null,
   "metadata": {},
   "outputs": [],
   "source": [
    "avg_run_time"
   ]
  },
  {
   "cell_type": "code",
   "execution_count": 15,
   "metadata": {
    "scrolled": true
   },
   "outputs": [
    {
     "name": "stdout",
     "output_type": "stream",
     "text": [
      "1-2-3 ***\n",
      "1-2-3 ***\n",
      "1-2-3 ***\n",
      "1-2-3 ***\n",
      "1-2-3 ***\n"
     ]
    },
    {
     "data": {
      "text/plain": [
       "7.481459999780782e-05"
      ]
     },
     "execution_count": 15,
     "metadata": {},
     "output_type": "execute_result"
    }
   ],
   "source": [
    "time_it(print, 1, 2, 3, sep='-', end= ' ***\\n', repititons=5)"
   ]
  },
  {
   "cell_type": "code",
   "execution_count": 8,
   "metadata": {},
   "outputs": [
    {
     "data": {
      "text/plain": [
       "1.8017358499999999e-06"
      ]
     },
     "execution_count": 8,
     "metadata": {},
     "output_type": "execute_result"
    }
   ],
   "source": [
    "time_it(squared_power_list, 100, end=5, repititons=20000*100)"
   ]
  },
  {
   "cell_type": "code",
   "execution_count": 9,
   "metadata": {},
   "outputs": [
    {
     "data": {
      "text/plain": [
       "1.296399999972664e-06"
      ]
     },
     "execution_count": 9,
     "metadata": {},
     "output_type": "execute_result"
    }
   ],
   "source": [
    "time_it(polygon_area, 15, sides = 3, repititons=5)"
   ]
  },
  {
   "cell_type": "code",
   "execution_count": 10,
   "metadata": {},
   "outputs": [
    {
     "data": {
      "text/plain": [
       "2.26109999994506e-07"
      ]
     },
     "execution_count": 10,
     "metadata": {},
     "output_type": "execute_result"
    }
   ],
   "source": [
    "time_it(temp_converter, 100, temp_given_in = 'f', repititons=100)"
   ]
  },
  {
   "cell_type": "code",
   "execution_count": 11,
   "metadata": {},
   "outputs": [
    {
     "data": {
      "text/plain": [
       "[2, 4, 8, 16, 32, 64, 128, 256, 512, 1024]"
      ]
     },
     "execution_count": 11,
     "metadata": {},
     "output_type": "execute_result"
    }
   ],
   "source": [
    "squared_power_list(2, start=1, end=10)"
   ]
  },
  {
   "cell_type": "code",
   "execution_count": 12,
   "metadata": {},
   "outputs": [
    {
     "data": {
      "text/plain": [
       "43.301270189221945"
      ]
     },
     "execution_count": 12,
     "metadata": {},
     "output_type": "execute_result"
    }
   ],
   "source": [
    "polygon_area(10)"
   ]
  },
  {
   "cell_type": "code",
   "execution_count": 13,
   "metadata": {},
   "outputs": [
    {
     "data": {
      "text/plain": [
       "37.77777777777778"
      ]
     },
     "execution_count": 13,
     "metadata": {},
     "output_type": "execute_result"
    }
   ],
   "source": [
    "temp_converter(100)"
   ]
  },
  {
   "cell_type": "code",
   "execution_count": 14,
   "metadata": {},
   "outputs": [
    {
     "data": {
      "text/plain": [
       "50.0"
      ]
     },
     "execution_count": 14,
     "metadata": {},
     "output_type": "execute_result"
    }
   ],
   "source": [
    "speed_converter(50)"
   ]
  },
  {
   "cell_type": "code",
   "execution_count": null,
   "metadata": {},
   "outputs": [],
   "source": []
  }
 ],
 "metadata": {
  "kernelspec": {
   "display_name": "Python 3",
   "language": "python",
   "name": "python3"
  },
  "language_info": {
   "codemirror_mode": {
    "name": "ipython",
    "version": 3
   },
   "file_extension": ".py",
   "mimetype": "text/x-python",
   "name": "python",
   "nbconvert_exporter": "python",
   "pygments_lexer": "ipython3",
   "version": "3.8.3"
  }
 },
 "nbformat": 4,
 "nbformat_minor": 4
}

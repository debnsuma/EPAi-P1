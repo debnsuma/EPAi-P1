{
 "cells": [
  {
   "cell_type": "markdown",
   "metadata": {},
   "source": [
    "# Assignment 1"
   ]
  },
  {
   "cell_type": "markdown",
   "metadata": {},
   "source": [
    "## Problem 1\n"
   ]
  },
  {
   "cell_type": "code",
   "execution_count": 83,
   "metadata": {},
   "outputs": [],
   "source": [
    "vals = ['2', '3', '4', '5', '6', '7', '8', '9', '10', 'jack', 'queen', 'king', 'ace']\n",
    "suits = ['spades', 'clubs', 'hearts', 'diamonds']"
   ]
  },
  {
   "cell_type": "markdown",
   "metadata": {},
   "source": [
    "### Solution:"
   ]
  },
  {
   "cell_type": "code",
   "execution_count": 84,
   "metadata": {},
   "outputs": [],
   "source": [
    "result = map(lambda pair: \"\".join(pair), zip(suits*13, vals*4))"
   ]
  },
  {
   "cell_type": "markdown",
   "metadata": {},
   "source": [
    "### Verification:"
   ]
  },
  {
   "cell_type": "code",
   "execution_count": 85,
   "metadata": {},
   "outputs": [],
   "source": [
    "result = list(result)"
   ]
  },
  {
   "cell_type": "code",
   "execution_count": 86,
   "metadata": {
    "scrolled": true
   },
   "outputs": [],
   "source": [
    "result = sorted(result)"
   ]
  },
  {
   "cell_type": "markdown",
   "metadata": {},
   "source": [
    "## Problem 2"
   ]
  },
  {
   "cell_type": "code",
   "execution_count": 87,
   "metadata": {},
   "outputs": [],
   "source": [
    "vals = ['2', '3', '4', '5', '6', '7', '8', '9', '10', 'jack', 'queen', 'king', 'ace']\n",
    "suits = ['spades', 'clubs', 'hearts', 'diamonds']"
   ]
  },
  {
   "cell_type": "markdown",
   "metadata": {},
   "source": [
    "### Solution:"
   ]
  },
  {
   "cell_type": "code",
   "execution_count": 155,
   "metadata": {},
   "outputs": [],
   "source": [
    "def get_my_deck(vals: \"list/tuple: provide the vals\", \n",
    "                suits: \"list/tuple: provide the suits\") -> \"returns deck\":\n",
    "    result = []\n",
    "    for s in suits:\n",
    "        result.extend([s+v for v in vals])\n",
    "    \n",
    "    return result\n",
    "\n",
    "result = get_my_deck(vals, suits)"
   ]
  },
  {
   "cell_type": "markdown",
   "metadata": {},
   "source": [
    "### Verification:"
   ]
  },
  {
   "cell_type": "code",
   "execution_count": 156,
   "metadata": {},
   "outputs": [
    {
     "data": {
      "text/plain": [
       "52"
      ]
     },
     "execution_count": 156,
     "metadata": {},
     "output_type": "execute_result"
    }
   ],
   "source": [
    "len(result)"
   ]
  },
  {
   "cell_type": "code",
   "execution_count": 157,
   "metadata": {
    "scrolled": true
   },
   "outputs": [
    {
     "data": {
      "text/plain": [
       "['clubs10',\n",
       " 'clubs2',\n",
       " 'clubs3',\n",
       " 'clubs4',\n",
       " 'clubs5',\n",
       " 'clubs6',\n",
       " 'clubs7',\n",
       " 'clubs8',\n",
       " 'clubs9',\n",
       " 'clubsace',\n",
       " 'clubsjack',\n",
       " 'clubsking',\n",
       " 'clubsqueen',\n",
       " 'diamonds10',\n",
       " 'diamonds2',\n",
       " 'diamonds3',\n",
       " 'diamonds4',\n",
       " 'diamonds5',\n",
       " 'diamonds6',\n",
       " 'diamonds7',\n",
       " 'diamonds8',\n",
       " 'diamonds9',\n",
       " 'diamondsace',\n",
       " 'diamondsjack',\n",
       " 'diamondsking',\n",
       " 'diamondsqueen',\n",
       " 'hearts10',\n",
       " 'hearts2',\n",
       " 'hearts3',\n",
       " 'hearts4',\n",
       " 'hearts5',\n",
       " 'hearts6',\n",
       " 'hearts7',\n",
       " 'hearts8',\n",
       " 'hearts9',\n",
       " 'heartsace',\n",
       " 'heartsjack',\n",
       " 'heartsking',\n",
       " 'heartsqueen',\n",
       " 'spades10',\n",
       " 'spades2',\n",
       " 'spades3',\n",
       " 'spades4',\n",
       " 'spades5',\n",
       " 'spades6',\n",
       " 'spades7',\n",
       " 'spades8',\n",
       " 'spades9',\n",
       " 'spadesace',\n",
       " 'spadesjack',\n",
       " 'spadesking',\n",
       " 'spadesqueen']"
      ]
     },
     "execution_count": 157,
     "metadata": {},
     "output_type": "execute_result"
    }
   ],
   "source": [
    "sorted(result)"
   ]
  },
  {
   "cell_type": "markdown",
   "metadata": {},
   "source": [
    "## Problem 3"
   ]
  },
  {
   "cell_type": "code",
   "execution_count": 178,
   "metadata": {},
   "outputs": [],
   "source": [
    "from operator import itemgetter\n",
    "\n",
    "vals = ['2', '3', '4', '5', '6', '7', '8', '9', '10', 'jack', 'queen', 'king', 'ace']\n",
    "suits = ['spades', 'clubs', 'hearts', 'diamonds']\n",
    "\n",
    "deck = list(zip(suits*13, vals*4))\n",
    "\n",
    "def merge(list1: \"This function\", \n",
    "          list2:\"This Function mergers two given list\")->\"Merged list\":\n",
    "    '''\n",
    "    This Function when given 2 list return combined list\"\n",
    "    '''\n",
    "    merged_list = [(list1[i], list2[i]) for i in range(0, len(list1))]\n",
    "    return merged_list\n",
    "\n",
    "def card_deck1_regular(n: 'number of Decks' = 1) -> 'List of Cards':\n",
    "    '''\n",
    "    This Program takes in number of deck and provides list of cards in it.\n",
    "    '''\n",
    "    Card_deck = []\n",
    "    suits = ['spades', 'clubs', 'hearts', 'diamonds']\n",
    "    vals = ['2', '3', '4', '5', '6', '7', '8', '9', '10', 'jack', 'queen', 'king', 'ace']\n",
    "    if n >= 1 and isinstance(n, int):\n",
    "        for n in range(n):\n",
    "            for b in suits:\n",
    "                for a in vals:\n",
    "                    Card_deck.append((a, b))\n",
    "    else:\n",
    "        print(\"Number of decks needs to be  +ve integer\")\n",
    "    return Card_deck\n",
    "\n",
    "def card_deck2_special(n: 'number of Decks' = 1) -> 'List of Cards':\n",
    "    '''\n",
    "    Single expression that including lambda, \n",
    "    zip and map functions to select create 52 cards in a deck\n",
    "    '''\n",
    "    \n",
    "    if n>=1 and isinstance(n, int):\n",
    "        card_deck2 = n*list(map(lambda x:(x[0], x[1]),zip(vals*4,suits*13)))\n",
    "    else:\n",
    "        print(\"Number of decks needs to be  +ve integer\")\n",
    "    return card_deck2\n",
    "\n",
    "def determinevalue1(y: \"Face Number of Card\") -> \"Program Number of Card\":\n",
    "    \"\"\" This function generates is the program number of cards\"\"\"\n",
    "    val_number_dic = {'2': 12, '3': 13, '4': 14, '5': 15, '6': 16, '7': 17, '8': 18, '9': 19, '10': 20, 'jack': 21,'queen': 22, 'king': 23, 'ace': 24}\n",
    "    z = val_number_dic.get(y)\n",
    "    return z\n",
    "\n",
    "def game_card_poker_winner(hand1: \"List of Cards with Player 1\",hand2: \"List of Cards with Player 1\") -> 'Returns the number of  player who won':\n",
    "    \"\"\"\n",
    "    This Determines the winner of Card game based on given set of cards\n",
    "    Its calls another function to calculate score of each hand and then compares.\n",
    "    Note: The input need to be properly order to check Tie Case.\n",
    "    \"\"\"\n",
    "    winner = 'Its a tie both players share the pot'\n",
    "    check1 = all(item in deck for item in hand2)\n",
    "    check2 = all(item in deck for item in hand2)\n",
    "    if len(hand1) == len(hand2) and check1 is True and check2 is True:\n",
    "        score1 = score_calculator(hand1)\n",
    "        score2 = score_calculator(hand2)\n",
    "        for a in range(len(hand1) + 1):\n",
    "            if score1[a] > score2[a]:\n",
    "                winner = 'Player 1'\n",
    "                break\n",
    "            elif score1[a] < score2[a]:\n",
    "                winner = 'Player 2'\n",
    "                break\n",
    "    elif check1 is False and check2 is False:\n",
    "        winner = 'Its a tie as Both Player should have legitimate cards'\n",
    "    elif check1 is False:\n",
    "        winner = 'Its a tie as Player1 should have legitimate cards'\n",
    "    elif check2 is False:\n",
    "        winner = 'Its a tie as Player2 should have legitimate cards'\n",
    "    else:\n",
    "        winner = 'Its a tie Both Players should have same amount of cards'\n",
    "    return winner\n",
    "\n",
    "def card_sorter_and_numbered(hand: 'unsorted hand with card number') -> 'Sorted card number with structured number':\n",
    "    \"\"\" This Program sorts the cards based on suit and vals and returns with number in place of vals\"\"\"\n",
    "    hand_vals = list(map(itemgetter(0), hand))\n",
    "    hand_suit = list(map(itemgetter(1), hand))\n",
    "    hand_vals1 = []\n",
    "    for a in hand_vals:\n",
    "        hand_vals1.append(determinevalue1(a))\n",
    "    hand_r = merge(hand_vals1, hand_suit)\n",
    "    hand_r = sorted(hand_r, key=lambda x: (x[1], -x[0]))\n",
    "    return hand_r, hand_vals1, hand_suit\n",
    "\n",
    "def checkconsecutive(l: 'Take in list  and checks if it consecutive number or not') -> 'True or False':\n",
    "    return sorted(l) == list(range(min(l), max(l) + 1))\n",
    "\n",
    "def score_calculator(hand: 'input is list of cards') -> 'The score of given hand':\n",
    "    \"This Function Calculates the score of given hand for selecting the winner in Poker\"\n",
    "    Score = []\n",
    "    cards_in_hand = len(hand)\n",
    "    sorted_cards, hand_fval, hand_suit = card_sorter_and_numbered(hand)\n",
    "    hand_suit_uni = list(set(hand_suit))\n",
    "    hand_suit_uni_nu = len(hand_suit_uni)\n",
    "    hand_fvals_uni = list(set(hand_fval))\n",
    "    hand_fvals_uni_nu = len(hand_fvals_uni)\n",
    "    #####for Straight flush\n",
    "    hand_fval_sorted = sorted(hand_fval, reverse=True)\n",
    "    ct1 = hand_fval.count(hand_fvals_uni[0])\n",
    "    ct2 = hand_fval.count(hand_fvals_uni[1]) if hand_fvals_uni_nu >= 2 else 1\n",
    "    ct3 = hand_fval.count(hand_fvals_uni[2]) if hand_fvals_uni_nu >= 3 else 1\n",
    "    ct4 = hand_fval.count(hand_fvals_uni[3]) if hand_fvals_uni_nu >= 4 else 1\n",
    "    ct = sorted((ct1, ct2, ct3, ct4), reverse=True)\n",
    "    Royal_flush_sum_dict = {5: 110, 4: 90, 3: 69}\n",
    "    Four_of_kind_dict = {5: 2, 4: 1}\n",
    "    #####\n",
    "    # \"Royal Flush\"\n",
    "    if hand_suit_uni_nu == 1 and sum(hand_fval) == Royal_flush_sum_dict.get(cards_in_hand):\n",
    "        score = hand_fval_sorted\n",
    "        score.insert(0, 10000)\n",
    "    # Straight flush\n",
    "    elif hand_suit_uni_nu == 1 and checkconsecutive(hand_fval_sorted):\n",
    "        score = hand_fval_sorted\n",
    "        score.insert(0, 9000)\n",
    "    # Four of a kind\n",
    "    elif cards_in_hand >= 4 and hand_fvals_uni_nu == Four_of_kind_dict.get(cards_in_hand) and ct[0] == 4:\n",
    "        score = hand_fval_sorted\n",
    "        score.insert(0, 8000)\n",
    "    # Full House\n",
    "    elif cards_in_hand == 5 and hand_fvals_uni_nu == 2 and ct[0] == 3:\n",
    "        score = hand_fval_sorted\n",
    "        score.insert(0, 7000)\n",
    "    # Flush\n",
    "    elif hand_suit_uni_nu == 1:\n",
    "        score = hand_fval_sorted\n",
    "        score.insert(0, 6000)\n",
    "    # Straight\n",
    "    elif checkconsecutive(hand_fval_sorted):\n",
    "        score = hand_fval_sorted\n",
    "        score.insert(0, 5000)\n",
    "    # Three of kind\n",
    "    elif ct[0] == 3:\n",
    "        score = hand_fval_sorted\n",
    "        score.insert(0, 4000)\n",
    "    # Two Pair\n",
    "    elif cards_in_hand >= 4 and ct[0] == 2 and ct[1] == 2:\n",
    "        score = hand_fval_sorted\n",
    "        score.insert(0, 3000)\n",
    "    # One Pair\n",
    "    elif ct[0] == 2 and ct[1] == 1:\n",
    "        score = hand_fval_sorted\n",
    "        score.insert(0, 2000)\n",
    "    # High Card\n",
    "    else:\n",
    "        score = hand_fval_sorted\n",
    "        score.insert(0, 1000)\n",
    "    return score"
   ]
  },
  {
   "cell_type": "code",
   "execution_count": null,
   "metadata": {},
   "outputs": [],
   "source": []
  }
 ],
 "metadata": {
  "kernelspec": {
   "display_name": "Python 3",
   "language": "python",
   "name": "python3"
  },
  "language_info": {
   "codemirror_mode": {
    "name": "ipython",
    "version": 3
   },
   "file_extension": ".py",
   "mimetype": "text/x-python",
   "name": "python",
   "nbconvert_exporter": "python",
   "pygments_lexer": "ipython3",
   "version": "3.8.3"
  }
 },
 "nbformat": 4,
 "nbformat_minor": 4
}
